{
 "cells": [
  {
   "cell_type": "markdown",
   "metadata": {},
   "source": [
    "# LLVM\n",
    "2000年，伊利诺伊大学厄巴纳－香槟分校（University of Illinois at Urbana-Champaign 简称UIUC）的Chris Lattner博士主持开发了一个叫作`Low Level Virtual Machine`的编译器开发工具套件，后来涉及范围越来越大，可以用于常规编译器，JIT编译器，汇编器，调试器，静态分析工具等一系列跟编程语言相关的工作，由于命名带来的混乱，目前LLVM就是该项目的全称。Chris后来又开发了`Clang`，使得`LLVM`直接挑战`GCC`的地位。2012年,`LLVM`获得美国计算机学会`ACM`的软件系统大奖。\n",
    "\n",
    "`LLVM`是编译器开发工具套件(例如，汇编器、编译器、调试器等)。虽然`LLVM`提供了一些独一无二的能力，并且以其中的一些工具而闻名(例如，Clang编译器，一个比GCC还要优秀的C/C++/Objective-C编译器)，但是使`LLVM`区别于其它编译器的还是它的内部架构。"
   ]
  },
  {
   "cell_type": "markdown",
   "metadata": {},
   "source": [
    "## 传统编译器设计\n",
    "\n",
    "传统的静态编译器最流行的设计模式就是三阶设计，前端、优化器、后端。前端的工作为语法解析，错误检查，生成抽象语法树。语法树可以选择性的转变成一个新的表现方式为优化器，优化器和后端操作优化后的中间代码。\n",
    "\n",
    "![figure1](../img/LLVM01.png)\n",
    "\n",
    "优化器负责各种各样的转换来试着改进代码的运行时间，然后，后端将代码映射到目标指令集中。编译器后端的公共部分包括指令选择，寄存器分配和指令调度。\n",
    "\n",
    "该模型同样适用于解释器和JIT编译器。Java虚拟机（JVM）也是此模型的一个实现，它使用Java字节码作为前端和优化器之间的接口。"
   ]
  },
  {
   "cell_type": "markdown",
   "metadata": {},
   "source": [
    "## 设计含义\n",
    "\n",
    "当编译器决定支持多种源语言或者多种目标架构的时候才能体现它的牛逼之处。如果编译器在其优化器中使用公共代码表示，则可以为任何能够编译到它的语言编写前端，并且可以为能从中编译的任何目标架构编写后端，如图：\n",
    "\n",
    "![figure2](../img/LLVM02.jpg)\n",
    "\n",
    "这种设计的好处是，当你需要支持一种新的语言，只需要实现新的前端即可，已存在的优化器和后端则可以复用。如果这些部分没能分离，那么实现一种新的源语言编译器需要从头到尾重写，所以支持`N`个目标框架与`M`个源语言需要`N*M`个编译器。"
   ]
  },
  {
   "cell_type": "code",
   "execution_count": null,
   "metadata": {},
   "outputs": [],
   "source": []
  }
 ],
 "metadata": {
  "kernelspec": {
   "display_name": "Python 3",
   "language": "python",
   "name": "python3"
  },
  "language_info": {
   "codemirror_mode": {
    "name": "ipython",
    "version": 3
   },
   "file_extension": ".py",
   "mimetype": "text/x-python",
   "name": "python",
   "nbconvert_exporter": "python",
   "pygments_lexer": "ipython3",
   "version": "3.6.5"
  }
 },
 "nbformat": 4,
 "nbformat_minor": 2
}
